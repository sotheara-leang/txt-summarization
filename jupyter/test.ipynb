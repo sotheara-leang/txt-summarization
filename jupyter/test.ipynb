{
 "cells": [
  {
   "cell_type": "code",
   "execution_count": 6,
   "metadata": {},
   "outputs": [],
   "source": [
    "import sys\n",
    "\n",
    "sys.path.insert(0, '..')"
   ]
  },
  {
   "cell_type": "code",
   "execution_count": 7,
   "metadata": {},
   "outputs": [],
   "source": [
    "import matplotlib.pyplot as plt\n",
    "import matplotlib.ticker as ticker\n",
    "from random import randint\n",
    "from rouge import Rouge\n",
    "\n",
    "from main.common.common import *\n",
    "from main.common.vocab import *\n",
    "from main.common.simple_vocab import SimpleVocab\n",
    "from main.common.util.file_util import FileUtil\n",
    "from main.data.giga_world import *\n",
    "from main.seq2seq import Seq2Seq"
   ]
  },
  {
   "cell_type": "code",
   "execution_count": 8,
   "metadata": {},
   "outputs": [],
   "source": [
    "def show_attention_graph(article, summary, attention):\n",
    "    article = article.split()\n",
    "    summary = summary.split()\n",
    "  \n",
    "    attention = (attention[:, :-1])\n",
    "    \n",
    "    # figure\n",
    "    figure = plt.figure(figsize=(20, 5))\n",
    "    ax = figure.add_subplot(111)\n",
    "    \n",
    "    cax = ax.matshow(attention.numpy(), cmap='bone')\n",
    "    figure.colorbar(cax)\n",
    "    \n",
    "    # set up axes\n",
    "    ax.set_xticklabels([''] + article + ['[STOP]'], rotation=90)\n",
    "    ax.set_yticklabels([''] + summary)\n",
    "\n",
    "    # show label at every tick\n",
    "    ax.xaxis.set_major_locator(ticker.MultipleLocator(1))\n",
    "    ax.yaxis.set_major_locator(ticker.MultipleLocator(1))\n",
    "    \n",
    "    plt.show()\n",
    "    plt.close()\n",
    "    \n",
    "def get_score(summary, reference):\n",
    "    summary = summary.split()\n",
    "    summary = [w for w in summary if w != TK_STOP['word']]\n",
    "    \n",
    "    score = rouge.get_scores(' '.join(summary), reference)[0][\"rouge-l\"][\"f\"]\n",
    "    \n",
    "    return score"
   ]
  },
  {
   "cell_type": "code",
   "execution_count": 9,
   "metadata": {},
   "outputs": [
    {
     "name": "stdout",
     "output_type": "stream",
     "text": [
      "2019-05-13 13:53:10 MainThread   DEBUG SimpleVocab:22 - initialize vocabulary from: /home/vivien/PycharmProjects/txt-summarization-master/data/train/giga-vocab.txt\n"
     ]
    }
   ],
   "source": [
    "AppContext()\n",
    "\n",
    "vocab = SimpleVocab(FileUtil.get_file_path(conf('vocab-file')), conf('vocab-size'))\n",
    "\n",
    "seq2seq = cuda(Seq2Seq(vocab))\n",
    "\n",
    "checkpoint = t.load(FileUtil.get_file_path(conf('model-file')))\n",
    "\n",
    "seq2seq.load_state_dict(checkpoint['model_state_dict'])\n",
    "\n",
    "seq2seq.eval()\n",
    "\n",
    "data_loader = GigaWorldDataLoader(FileUtil.get_file_path(conf('train:article-file')), FileUtil.get_file_path(conf('train:summary-file')), 10)"
   ]
  },
  {
   "cell_type": "code",
   "execution_count": 10,
   "metadata": {},
   "outputs": [
    {
     "name": "stdout",
     "output_type": "stream",
     "text": [
      ">>> article:  at least two people were killed in a suspected bomb attack on a passenger bus in the strife-torn southern philippines on monday , the military said .\n",
      ">>> reference:  at least two dead in southern philippines blast\n",
      ">>> prediction:  at least two dead in southern philippines blast [STOP]\n",
      ">>> score:  0.9999999999995\n"
     ]
    },
    {
     "data": {
      "image/png": "[encoded data removed]",
      "text/plain": [
       "<Figure size 1440x360 with 2 Axes>"
      ]
     },
     "metadata": {
      "needs_background": "light"
     },
     "output_type": "display_data"
    }
   ],
   "source": [
    "rouge = Rouge()\n",
    "\n",
    "samples = data_loader.read_all()\n",
    "\n",
    "article, reference = samples[randint(0, len(samples) - 1)]\n",
    "\n",
    "summary, attention = seq2seq.evaluate(article)\n",
    "\n",
    "score = get_score(summary, reference)\n",
    "\n",
    "print('>>> article: ', article)\n",
    "print('>>> reference: ', reference)\n",
    "print('>>> prediction: ', summary)\n",
    "print('>>> score: ', score)\n",
    "\n",
    "show_attention_graph(article, summary, attention)"
   ]
  },
  {
   "cell_type": "code",
   "execution_count": null,
   "metadata": {},
   "outputs": [],
   "source": []
  }
 ],
 "metadata": {
  "kernelspec": {
   "display_name": "Python 3",
   "language": "python",
   "name": "python3"
  },
  "language_info": {
   "codemirror_mode": {
    "name": "ipython",
    "version": 3
   },
   "file_extension": ".py",
   "mimetype": "text/x-python",
   "name": "python",
   "nbconvert_exporter": "python",
   "pygments_lexer": "ipython3",
   "version": "3.6.7"
  }
 },
 "nbformat": 4,
 "nbformat_minor": 2
}
