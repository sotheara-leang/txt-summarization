{
 "cells": [
  {
   "cell_type": "code",
   "execution_count": 1,
   "metadata": {},
   "outputs": [],
   "source": [
    "import sys\n",
    "\n",
    "sys.path.insert(0, '..')"
   ]
  },
  {
   "cell_type": "code",
   "execution_count": 2,
   "metadata": {},
   "outputs": [],
   "source": [
    "from main.train import *"
   ]
  },
  {
   "cell_type": "code",
   "execution_count": 3,
   "metadata": {},
   "outputs": [
    {
     "name": "stdout",
     "output_type": "stream",
     "text": [
      "2019-04-16 15:44:25 MainThread   DEBUG SimpleVocab:22 - initialize vocabulary from: /home/skopai-ext/leang/workspace/sample/txt-summarization/data/extract/giga-vocab.txt\n",
      "2019-04-16 15:44:28 MainThread   DEBUG      Train:449 - >>> configuration: \n",
      "emb-file: data/extract/embedding\n",
      "emb-size: 100\n",
      "hidden-size: 200\n",
      "max-dec-steps: 100\n",
      "max-enc-steps: 100\n",
      "model-file: data/extract/giga-model-10k.ckpt\n",
      "sharing-decoder-weight: true\n",
      "train:\n",
      "  article-file: data/extract/giga-article-10k.txt\n",
      "  batch-size: 50\n",
      "  clip-gradient-max-norm: 1\n",
      "  epoch: 1\n",
      "  eval: true\n",
      "  load-model-file: null\n",
      "  log-batch: true\n",
      "  log-batch-interval: 10\n",
      "  lr: 0.001\n",
      "  lr-decay: 1\n",
      "  lr-decay-epoch: 50\n",
      "  ml:\n",
      "    enable: true\n",
      "    forcing-decay: 0\n",
      "    forcing-ratio: 1\n",
      "  rl:\n",
      "    enable: false\n",
      "    transit-decay: 0\n",
      "    transit-epoch: -1\n",
      "    weight: 0.9984\n",
      "  save-model-file: data/extract/giga-model-10k.ckpt\n",
      "  summary-file: data/extract/giga-summary-10k.txt\n",
      "  tb-log-dir: logs/giga-10k/\n",
      "vocab-file: data/extract/giga-vocab.txt\n",
      "vocab-size: 50000\n",
      "2019-04-16 15:44:28 MainThread   DEBUG      Train:294 - >>> training:\n",
      "2019-04-16 15:44:28 MainThread   DEBUG      Train:301 - ========================= epoch 1/1 =========================\n",
      "2019-04-16 15:44:30 MainThread   DEBUG      Train:343 - EP\t1,\tBAT\t10:\tloss=7.233,\tml-loss=7.233,\trl-loss=NA,\ttime=0:00:00.183980\n",
      "2019-04-16 15:44:32 MainThread   DEBUG      Train:343 - EP\t1,\tBAT\t20:\tloss=7.484,\tml-loss=7.484,\trl-loss=NA,\ttime=0:00:00.257504\n",
      "2019-04-16 15:44:35 MainThread   DEBUG      Train:343 - EP\t1,\tBAT\t30:\tloss=6.332,\tml-loss=6.332,\trl-loss=NA,\ttime=0:00:00.183837\n",
      "2019-04-16 15:44:37 MainThread   DEBUG      Train:343 - EP\t1,\tBAT\t40:\tloss=8.191,\tml-loss=8.191,\trl-loss=NA,\ttime=0:00:00.242900\n",
      "2019-04-16 15:44:40 MainThread   DEBUG      Train:343 - EP\t1,\tBAT\t50:\tloss=7.188,\tml-loss=7.188,\trl-loss=NA,\ttime=0:00:00.247898\n",
      "2019-04-16 15:44:43 MainThread   DEBUG      Train:343 - EP\t1,\tBAT\t60:\tloss=7.718,\tml-loss=7.718,\trl-loss=NA,\ttime=0:00:00.249461\n",
      "2019-04-16 15:44:46 MainThread   DEBUG      Train:343 - EP\t1,\tBAT\t70:\tloss=7.841,\tml-loss=7.841,\trl-loss=NA,\ttime=0:00:00.287256\n",
      "2019-04-16 15:44:49 MainThread   DEBUG      Train:343 - EP\t1,\tBAT\t80:\tloss=5.832,\tml-loss=5.832,\trl-loss=NA,\ttime=0:00:00.207553\n",
      "2019-04-16 15:44:52 MainThread   DEBUG      Train:343 - EP\t1,\tBAT\t90:\tloss=7.157,\tml-loss=7.157,\trl-loss=NA,\ttime=0:00:00.299567\n",
      "2019-04-16 15:44:55 MainThread   DEBUG      Train:343 - EP\t1,\tBAT\t100:\tloss=7.979,\tml-loss=7.979,\trl-loss=NA,\ttime=0:00:00.314464\n",
      "2019-04-16 15:44:58 MainThread   DEBUG      Train:343 - EP\t1,\tBAT\t110:\tloss=7.556,\tml-loss=7.556,\trl-loss=NA,\ttime=0:00:00.291441\n",
      "2019-04-16 15:45:01 MainThread   DEBUG      Train:343 - EP\t1,\tBAT\t120:\tloss=7.601,\tml-loss=7.601,\trl-loss=NA,\ttime=0:00:00.283482\n",
      "2019-04-16 15:45:04 MainThread   DEBUG      Train:343 - EP\t1,\tBAT\t130:\tloss=7.433,\tml-loss=7.433,\trl-loss=NA,\ttime=0:00:00.267408\n",
      "2019-04-16 15:45:07 MainThread   DEBUG      Train:343 - EP\t1,\tBAT\t140:\tloss=6.719,\tml-loss=6.719,\trl-loss=NA,\ttime=0:00:00.273536\n",
      "2019-04-16 15:45:10 MainThread   DEBUG      Train:343 - EP\t1,\tBAT\t150:\tloss=7.423,\tml-loss=7.423,\trl-loss=NA,\ttime=0:00:00.288210\n",
      "2019-04-16 15:45:13 MainThread   DEBUG      Train:343 - EP\t1,\tBAT\t160:\tloss=5.133,\tml-loss=5.133,\trl-loss=NA,\ttime=0:00:00.162973\n",
      "2019-04-16 15:45:15 MainThread   DEBUG      Train:343 - EP\t1,\tBAT\t170:\tloss=7.420,\tml-loss=7.420,\trl-loss=NA,\ttime=0:00:00.253777\n",
      "2019-04-16 15:45:18 MainThread   DEBUG      Train:343 - EP\t1,\tBAT\t180:\tloss=7.053,\tml-loss=7.053,\trl-loss=NA,\ttime=0:00:00.236419\n",
      "2019-04-16 15:45:20 MainThread   DEBUG      Train:343 - EP\t1,\tBAT\t190:\tloss=7.356,\tml-loss=7.356,\trl-loss=NA,\ttime=0:00:00.257437\n",
      "2019-04-16 15:45:23 MainThread   DEBUG      Train:343 - EP\t1,\tBAT\t200:\tloss=7.696,\tml-loss=7.696,\trl-loss=NA,\ttime=0:00:00.301967\n",
      "2019-04-16 15:45:23 MainThread   DEBUG      Train:363 - loss_avg\t=\t7.449\n",
      "2019-04-16 15:45:23 MainThread   DEBUG      Train:364 - ml-loss-avg\t=\t7.449\n",
      "2019-04-16 15:45:23 MainThread   DEBUG      Train:368 - rl-loss_avg\t=\tNA\n",
      "2019-04-16 15:45:23 MainThread   DEBUG      Train:370 - time\t=\t0:00:53.728495\n",
      "2019-04-16 15:45:23 MainThread   DEBUG      Train:382 - >>> evaluation:\n",
      "2019-04-16 15:47:25 MainThread   DEBUG      Train:407 - examples: 10000\n",
      "2019-04-16 15:47:25 MainThread   DEBUG      Train:408 - avg rouge-l score: 0.053\n",
      "2019-04-16 15:47:25 MainThread   DEBUG      Train:438 - >>> save model into: data/extract/giga-model-10k.ckpt\n"
     ]
    }
   ],
   "source": [
    "train = Train()\n",
    "train.run()"
   ]
  }
 ],
 "metadata": {
  "kernelspec": {
   "display_name": "Python 3",
   "language": "python",
   "name": "python3"
  },
  "language_info": {
   "codemirror_mode": {
    "name": "ipython",
    "version": 3
   },
   "file_extension": ".py",
   "mimetype": "text/x-python",
   "name": "python",
   "nbconvert_exporter": "python",
   "pygments_lexer": "ipython3",
   "version": "3.5.3"
  }
 },
 "nbformat": 4,
 "nbformat_minor": 2
}
