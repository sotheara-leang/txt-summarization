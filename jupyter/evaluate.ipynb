{
 "cells": [
  {
   "cell_type": "code",
   "execution_count": 1,
   "metadata": {},
   "outputs": [],
   "source": [
    "import sys\n",
    "\n",
    "sys.path.insert(0, '..')"
   ]
  },
  {
   "cell_type": "code",
   "execution_count": 2,
   "metadata": {},
   "outputs": [],
   "source": [
    "from main.evaluate import Evaluate\n",
    "from main.common.common import *"
   ]
  },
  {
   "cell_type": "code",
   "execution_count": 3,
   "metadata": {},
   "outputs": [
    {
     "name": "stdout",
     "output_type": "stream",
     "text": [
      "2019-05-13 13:49:33 MainThread   DEBUG SimpleVocab:22 - initialize vocabulary from: /home/vivien/PycharmProjects/txt-summarization-master/data/train/giga-vocab.txt\n",
      "2019-05-13 13:49:33 MainThread   DEBUG   Evaluate:120 - >>> configuration: \n",
      "dec-hidden-size: 100\n",
      "device: cpu\n",
      "emb-file: data/train/embedding\n",
      "emb-size: 50\n",
      "enc-hidden-size: 50\n",
      "eval:\n",
      "  article-file: data/train/giga-article.txt\n",
      "  batch-size: 3\n",
      "  load-model-file: data/result/giga-model-30.ckpt\n",
      "  log-batch: true\n",
      "  log-batch-interval: 1\n",
      "  summary-file: data/train/giga-summary.txt\n",
      "logging:\n",
      "  conf-file: null\n",
      "  enable: true\n",
      "max-dec-steps: 100\n",
      "max-enc-steps: 100\n",
      "model-file: data/result/giga-model.ckpt\n",
      "pointer-generator: true\n",
      "share-dec-weight: true\n",
      "train:\n",
      "  article-file: data/train/giga-article.txt\n",
      "  batch-size: 3\n",
      "  clip-gradient-max-norm: 1\n",
      "  epoch: 100\n",
      "  eval: true\n",
      "  load-model-file: data/result/giga-model-10.ckpt\n",
      "  log-batch: true\n",
      "  log-batch-interval: 1\n",
      "  lr: 0.001\n",
      "  lr-decay: 1\n",
      "  lr-decay-epoch: 50\n",
      "  ml:\n",
      "    enable: true\n",
      "    forcing-decay: 0\n",
      "    forcing-ratio: 1\n",
      "  rl:\n",
      "    enable: false\n",
      "    transit-decay: 0\n",
      "    transit-epoch: -1\n",
      "    weight: 0.9984\n",
      "  save-model-file: data/result/giga-model.ckpt\n",
      "  save-model-per-epoch: 3\n",
      "  summary-file: data/train/giga-summary.txt\n",
      "  tb:\n",
      "    enable: true\n",
      "    log-dir: /home/vivien/PycharmProjects/txt-summarization-master/logs/giga/\n",
      "vocab-file: data/train/giga-vocab.txt\n",
      "vocab-size: 50000\n",
      "2019-05-13 13:49:33 MainThread   DEBUG   Evaluate:103 - >>> load pre-trained model from: /home/vivien/PycharmProjects/txt-summarization-master/data/result/giga-model-30.ckpt\n",
      "2019-05-13 13:49:33 MainThread   DEBUG   Evaluate:110 - epoch: 30\n",
      "2019-05-13 13:49:33 MainThread   DEBUG   Evaluate:111 - loss: 0.021614211837432402\n",
      "2019-05-13 13:49:34 MainThread   DEBUG   Evaluate:37 - >>> evaluation:\n",
      "2019-05-13 13:49:34 MainThread   DEBUG   Evaluate:81 - BAT\t1:\t\tavg rouge_l score=1.000\t\ttime=0:00:00.129082\n",
      "2019-05-13 13:49:34 MainThread   DEBUG   Evaluate:81 - BAT\t2:\t\tavg rouge_l score=1.000\t\ttime=0:00:00.048157\n",
      "2019-05-13 13:49:34 MainThread   DEBUG   Evaluate:81 - BAT\t3:\t\tavg rouge_l score=0.965\t\ttime=0:00:00.047501\n",
      "2019-05-13 13:49:34 MainThread   DEBUG   Evaluate:81 - BAT\t4:\t\tavg rouge_l score=1.000\t\ttime=0:00:00.071738\n",
      "2019-05-13 13:49:34 MainThread   DEBUG   Evaluate:81 - BAT\t5:\t\tavg rouge_l score=1.000\t\ttime=0:00:00.089850\n",
      "2019-05-13 13:49:34 MainThread   DEBUG   Evaluate:81 - BAT\t6:\t\tavg rouge_l score=1.000\t\ttime=0:00:00.093952\n",
      "2019-05-13 13:49:34 MainThread   DEBUG   Evaluate:81 - BAT\t7:\t\tavg rouge_l score=1.000\t\ttime=0:00:00.064706\n",
      "2019-05-13 13:49:34 MainThread   DEBUG   Evaluate:81 - BAT\t8:\t\tavg rouge_l score=0.975\t\ttime=0:00:00.059882\n",
      "2019-05-13 13:49:34 MainThread   DEBUG   Evaluate:81 - BAT\t9:\t\tavg rouge_l score=1.000\t\ttime=0:00:00.058407\n",
      "2019-05-13 13:49:34 MainThread   DEBUG   Evaluate:81 - BAT\t10:\t\tavg rouge_l score=1.000\t\ttime=0:00:00.073315\n",
      "2019-05-13 13:49:34 MainThread   DEBUG   Evaluate:81 - BAT\t11:\t\tavg rouge_l score=0.971\t\ttime=0:00:00.087497\n",
      "2019-05-13 13:49:34 MainThread   DEBUG   Evaluate:81 - BAT\t12:\t\tavg rouge_l score=1.000\t\ttime=0:00:00.085135\n",
      "2019-05-13 13:49:35 MainThread   DEBUG   Evaluate:81 - BAT\t13:\t\tavg rouge_l score=1.000\t\ttime=0:00:00.095304\n",
      "2019-05-13 13:49:35 MainThread   DEBUG   Evaluate:81 - BAT\t14:\t\tavg rouge_l score=0.978\t\ttime=0:00:00.066543\n",
      "2019-05-13 13:49:35 MainThread   DEBUG   Evaluate:81 - BAT\t15:\t\tavg rouge_l score=0.858\t\ttime=0:00:00.060212\n",
      "2019-05-13 13:49:35 MainThread   DEBUG   Evaluate:81 - BAT\t16:\t\tavg rouge_l score=0.931\t\ttime=0:00:00.071081\n",
      "2019-05-13 13:49:35 MainThread   DEBUG   Evaluate:81 - BAT\t17:\t\tavg rouge_l score=1.000\t\ttime=0:00:00.054407\n",
      "2019-05-13 13:49:35 MainThread   DEBUG   Evaluate:92 - examples: 50\n",
      "2019-05-13 13:49:35 MainThread   DEBUG   Evaluate:93 - avg rouge-l score: 0.981062\n",
      "2019-05-13 13:49:35 MainThread   DEBUG   Evaluate:94 - time\t:\t0:00:01.306268\n"
     ]
    }
   ],
   "source": [
    "AppContext()\n",
    "\n",
    "evaluate = Evaluate()\n",
    "evaluate.run()"
   ]
  }
 ],
 "metadata": {
  "kernelspec": {
   "display_name": "Python 3",
   "language": "python",
   "name": "python3"
  },
  "language_info": {
   "codemirror_mode": {
    "name": "ipython",
    "version": 3
   },
   "file_extension": ".py",
   "mimetype": "text/x-python",
   "name": "python",
   "nbconvert_exporter": "python",
   "pygments_lexer": "ipython3",
   "version": "3.6.7"
  }
 },
 "nbformat": 4,
 "nbformat_minor": 2
}
