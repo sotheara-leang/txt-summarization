{
 "cells": [
  {
   "cell_type": "code",
   "execution_count": 7,
   "metadata": {},
   "outputs": [],
   "source": [
    "import sys\n",
    "\n",
    "sys.path.insert(0, '..')"
   ]
  },
  {
   "cell_type": "code",
   "execution_count": 8,
   "metadata": {},
   "outputs": [],
   "source": [
    "from main.common.common import *\n",
    "from main.seq2seq import Seq2Seq\n",
    "from main.common.simple_vocab import SimpleVocab\n",
    "from main.common.util.file_util import FileUtil\n",
    "from main.data.giga_world import *"
   ]
  },
  {
   "cell_type": "code",
   "execution_count": 9,
   "metadata": {},
   "outputs": [
    {
     "name": "stdout",
     "output_type": "stream",
     "text": [
      "2019-04-16 15:54:28 MainThread   DEBUG SimpleVocab:22 - initialize vocabulary from: /home/skopai-ext/leang/workspace/sample/txt-summarization/data/extract/giga-vocab.txt\n"
     ]
    },
    {
     "data": {
      "text/plain": [
       "Seq2Seq(\n",
       "  (embedding): Embedding(50000, 100, padding_idx=0)\n",
       "  (encoder): Encoder(\n",
       "    (lstm): LSTM(100, 200, batch_first=True, bidirectional=True)\n",
       "  )\n",
       "  (decoder): Decoder(\n",
       "    (lstm): LSTMCell(100, 400)\n",
       "    (y_concat): Linear(in_features=500, out_features=100, bias=True)\n",
       "  )\n",
       "  (enc_att): EncoderAttention(\n",
       "    (attn): Bilinear(in1_features=400, in2_features=400, out_features=1, bias=False)\n",
       "  )\n",
       "  (dec_att): DecoderAttention(\n",
       "    (attn): Bilinear(in1_features=400, in2_features=400, out_features=1, bias=False)\n",
       "  )\n",
       "  (ptr_gen): Linear(in_features=1200, out_features=1, bias=True)\n",
       "  (vocab_gen): Sequential(\n",
       "    (0): Linear(in_features=1200, out_features=100, bias=True)\n",
       "    (1): Linear(in_features=100, out_features=50000, bias=True)\n",
       "  )\n",
       ")"
      ]
     },
     "execution_count": 9,
     "metadata": {},
     "output_type": "execute_result"
    }
   ],
   "source": [
    "data_loader = GigaWorldDataLoader(FileUtil.get_file_path(conf.get('train:article-file')), FileUtil.get_file_path(conf.get('train:summary-file')), 10)\n",
    "\n",
    "vocab = SimpleVocab(FileUtil.get_file_path(conf.get('vocab-file')), conf.get('vocab-size'))\n",
    "\n",
    "seq2seq = cuda(Seq2Seq(vocab))\n",
    "\n",
    "checkpoint = t.load(FileUtil.get_file_path(conf.get('model-file')))\n",
    "\n",
    "seq2seq.load_state_dict(checkpoint['model_state_dict'])\n",
    "\n",
    "seq2seq.eval()"
   ]
  },
  {
   "cell_type": "code",
   "execution_count": 10,
   "metadata": {},
   "outputs": [],
   "source": [
    "samples = data_loader.read_all()"
   ]
  },
  {
   "cell_type": "code",
   "execution_count": 11,
   "metadata": {},
   "outputs": [],
   "source": [
    "article, reference = samples[3]"
   ]
  },
  {
   "cell_type": "code",
   "execution_count": 12,
   "metadata": {},
   "outputs": [
    {
     "name": "stdout",
     "output_type": "stream",
     "text": [
      ">>> article:  south korea 's nuclear envoy kim sook urged north korea monday to restart work to disable its nuclear plants and stop its `` typical '' brinkmanship in negotiations .\n",
      ">>> reference:  envoy urges north korea to restart nuclear disablement\n",
      ">>> prediction:  us to to to to [STOP]\n"
     ]
    }
   ],
   "source": [
    "summary = seq2seq.summarize(article)\n",
    "\n",
    "print('>>> article: ', article)\n",
    "print('>>> reference: ', reference)\n",
    "print('>>> prediction: ', summary)"
   ]
  },
  {
   "cell_type": "code",
   "execution_count": null,
   "metadata": {},
   "outputs": [],
   "source": []
  }
 ],
 "metadata": {
  "kernelspec": {
   "display_name": "Python 3",
   "language": "python",
   "name": "python3"
  },
  "language_info": {
   "codemirror_mode": {
    "name": "ipython",
    "version": 3
   },
   "file_extension": ".py",
   "mimetype": "text/x-python",
   "name": "python",
   "nbconvert_exporter": "python",
   "pygments_lexer": "ipython3",
   "version": "3.5.3"
  }
 },
 "nbformat": 4,
 "nbformat_minor": 2
}
